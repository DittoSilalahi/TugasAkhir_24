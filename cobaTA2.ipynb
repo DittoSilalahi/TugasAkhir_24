{
 "cells": [
  {
   "cell_type": "code",
   "execution_count": 1,
   "metadata": {},
   "outputs": [],
   "source": [
    "import pandas as pd\n",
    "import numpy as np\n",
    "from sklearn.model_selection import train_test_split # Import train_test_split function\n",
    "from sklearn import metrics #Import scikit-learn metrics module for accuracy calculation\n",
    "from sklearn import preprocessing\n",
    "from sklearn import datasets"
   ]
  },
  {
   "cell_type": "code",
   "execution_count": 2,
   "metadata": {},
   "outputs": [],
   "source": [
    "dataset = pd.read_csv('TA1.csv')"
   ]
  },
  {
   "cell_type": "code",
   "execution_count": 3,
   "metadata": {},
   "outputs": [
    {
     "data": {
      "text/html": [
       "<div>\n",
       "<style scoped>\n",
       "    .dataframe tbody tr th:only-of-type {\n",
       "        vertical-align: middle;\n",
       "    }\n",
       "\n",
       "    .dataframe tbody tr th {\n",
       "        vertical-align: top;\n",
       "    }\n",
       "\n",
       "    .dataframe thead th {\n",
       "        text-align: right;\n",
       "    }\n",
       "</style>\n",
       "<table border=\"1\" class=\"dataframe\">\n",
       "  <thead>\n",
       "    <tr style=\"text-align: right;\">\n",
       "      <th></th>\n",
       "      <th>Kecerdasan</th>\n",
       "      <th>Analisa</th>\n",
       "      <th>Kecerdasan Verbal</th>\n",
       "      <th>Pengolahan Data Angka</th>\n",
       "      <th>Produktivitas Kerja</th>\n",
       "      <th>Motivasi Kerja</th>\n",
       "      <th>Pengendalian</th>\n",
       "      <th>Konsentrasi</th>\n",
       "      <th>Stabilitas Emosi</th>\n",
       "      <th>Kerja Sama</th>\n",
       "      <th>Penyesuaian Diri</th>\n",
       "      <th>Metode Belajar</th>\n",
       "    </tr>\n",
       "  </thead>\n",
       "  <tbody>\n",
       "    <tr>\n",
       "      <th>0</th>\n",
       "      <td>Baik</td>\n",
       "      <td>Baik</td>\n",
       "      <td>Kurang</td>\n",
       "      <td>Baik</td>\n",
       "      <td>Kurang</td>\n",
       "      <td>Baik</td>\n",
       "      <td>Kurang</td>\n",
       "      <td>Kurang</td>\n",
       "      <td>Baik</td>\n",
       "      <td>Kurang</td>\n",
       "      <td>Kurang</td>\n",
       "      <td>Mandiri</td>\n",
       "    </tr>\n",
       "    <tr>\n",
       "      <th>1</th>\n",
       "      <td>Kurang</td>\n",
       "      <td>Kurang</td>\n",
       "      <td>Baik</td>\n",
       "      <td>Kurang</td>\n",
       "      <td>Baik</td>\n",
       "      <td>Kurang</td>\n",
       "      <td>Baik</td>\n",
       "      <td>Baik</td>\n",
       "      <td>Kurang</td>\n",
       "      <td>Baik</td>\n",
       "      <td>Baik</td>\n",
       "      <td>Diskusi</td>\n",
       "    </tr>\n",
       "  </tbody>\n",
       "</table>\n",
       "</div>"
      ],
      "text/plain": [
       "  Kecerdasan Analisa Kecerdasan Verbal Pengolahan Data Angka  \\\n",
       "0       Baik    Baik            Kurang                  Baik   \n",
       "1     Kurang  Kurang              Baik                Kurang   \n",
       "\n",
       "  Produktivitas Kerja Motivasi Kerja Pengendalian Konsentrasi  \\\n",
       "0              Kurang           Baik       Kurang      Kurang   \n",
       "1                Baik         Kurang         Baik        Baik   \n",
       "\n",
       "  Stabilitas Emosi Kerja Sama Penyesuaian Diri Metode Belajar  \n",
       "0             Baik     Kurang           Kurang        Mandiri  \n",
       "1           Kurang       Baik             Baik        Diskusi  "
      ]
     },
     "execution_count": 3,
     "metadata": {},
     "output_type": "execute_result"
    }
   ],
   "source": [
    "dataset"
   ]
  },
  {
   "cell_type": "code",
   "execution_count": 4,
   "metadata": {},
   "outputs": [],
   "source": [
    "kecerdasan = \"Baik\"\n",
    "analisa = \"Kurang\"\n",
    "kecerdasan_verbal = \"Baik\"\n",
    "pengolahan_data_angka = \"Baik\"\n",
    "produktivitas_kerja = \"Kurang\"\n",
    "motivasi_kerja = \"Kurang\"\n",
    "pengendalian = \"Baik\"\n",
    "konsentrasi = \"Baik\"\n",
    "stabilitas_emosi = \"Kurang\"\n",
    "kerja_sama = \"Baik\"\n",
    "penyesuaian_diri = \"Kurang\""
   ]
  },
  {
   "cell_type": "code",
   "execution_count": 9,
   "metadata": {},
   "outputs": [],
   "source": [
    "def calculate(kecerdasan, analisa, kecerdasan_verbal, pengolahan_data_angka, produktivitas_kerja, motivasi_kerja, pengendalian, konsentrasi, stabilitas_emosi, kerja_sama, penyesuaian_diri):\n",
    "    bobot_mandiri = 0\n",
    "    bobot_diskusi = 0\n",
    "    \n",
    "    if kecerdasan == dataset[\"Kecerdasan\"][0]:\n",
    "        bobot_mandiri = bobot_mandiri + 1\n",
    "    else:\n",
    "        bobot_diskusi = bobot_diskusi + 1\n",
    "        \n",
    "    if analisa == dataset[\"Analisa\"][0]:\n",
    "        bobot_mandiri = bobot_mandiri + 1\n",
    "    else:\n",
    "        bobot_diskusi = bobot_diskusi + 1\n",
    "        \n",
    "    if kecerdasan_verbal == dataset[\"Kecerdasan Verbal\"][0]:\n",
    "        bobot_mandiri = bobot_mandiri + 1\n",
    "    else:\n",
    "        bobot_diskusi = bobot_diskusi + 1\n",
    "        \n",
    "    if pengolahan_data_angka == dataset[\"Pengolahan Data Angka\"][0]:\n",
    "        bobot_mandiri = bobot_mandiri + 1\n",
    "    else:\n",
    "        bobot_diskusi = bobot_diskusi + 1\n",
    "        \n",
    "    if produktivitas_kerja == dataset[\"Produktivitas Kerja\"][0]:\n",
    "        bobot_mandiri = bobot_mandiri + 1\n",
    "    else:\n",
    "        bobot_diskusi = bobot_diskusi + 1\n",
    "        \n",
    "    if motivasi_kerja == dataset[\"Motivasi Kerja\"][0]:\n",
    "        bobot_mandiri = bobot_mandiri + 1\n",
    "    else:\n",
    "        bobot_diskusi = bobot_diskusi + 1\n",
    "        \n",
    "    if pengendalian == dataset[\"Pengendalian\"][0]:\n",
    "        bobot_mandiri = bobot_mandiri + 1\n",
    "    else:\n",
    "        bobot_diskusi = bobot_diskusi + 1\n",
    "        \n",
    "    if konsentrasi == dataset[\"Konsentrasi\"][0]:\n",
    "        bobot_mandiri = bobot_mandiri + 1\n",
    "    else:\n",
    "        bobot_diskusi = bobot_diskusi + 1\n",
    "        \n",
    "    if stabilitas_emosi == dataset[\"Stabilitas Emosi\"][0]:\n",
    "        bobot_mandiri = bobot_mandiri + 1\n",
    "    else:\n",
    "        bobot_diskusi = bobot_diskusi + 1\n",
    "        \n",
    "    if kerja_sama == dataset[\"Kerja Sama\"][0]:\n",
    "        bobot_mandiri = bobot_mandiri + 1\n",
    "    else:\n",
    "        bobot_diskusi = bobot_diskusi + 1\n",
    "        \n",
    "    if penyesuaian_diri == dataset[\"Penyesuaian Diri\"][0]:\n",
    "        bobot_mandiri = bobot_mandiri + 1\n",
    "    else:\n",
    "        bobot_diskusi = bobot_diskusi + 1\n",
    "        \n",
    "    #tambahin\n",
    "        \n",
    "    final_bobot_mandiri = bobot_mandiri / 11 * 100\n",
    "    final_bobot_diskusi = bobot_diskusi / 11 * 100\n",
    "    \n",
    "    return_bobot_mandiri = \"Mandiri = \" + str(final_bobot_mandiri) + \" %\"\n",
    "    return_bobot_diskusi = \"Diskusi = \" + str(final_bobot_diskusi) + \" %\"\n",
    "    \n",
    "    return return_bobot_mandiri, return_bobot_diskusi"
   ]
  },
  {
   "cell_type": "code",
   "execution_count": 10,
   "metadata": {},
   "outputs": [
    {
     "data": {
      "text/plain": [
       "('Mandiri = 36.36363636363637 %', 'Diskusi = 63.63636363636363 %')"
      ]
     },
     "execution_count": 10,
     "metadata": {},
     "output_type": "execute_result"
    }
   ],
   "source": [
    "calculate(kecerdasan, analisa, kecerdasan_verbal, pengolahan_data_angka, produktivitas_kerja, motivasi_kerja, pengendalian, konsentrasi, stabilitas_emosi, kerja_sama, penyesuaian_diri)"
   ]
  },
  {
   "cell_type": "code",
   "execution_count": null,
   "metadata": {},
   "outputs": [],
   "source": []
  }
 ],
 "metadata": {
  "kernelspec": {
   "display_name": "Python 3",
   "language": "python",
   "name": "python3"
  },
  "language_info": {
   "codemirror_mode": {
    "name": "ipython",
    "version": 3
   },
   "file_extension": ".py",
   "mimetype": "text/x-python",
   "name": "python",
   "nbconvert_exporter": "python",
   "pygments_lexer": "ipython3",
   "version": "3.7.3"
  }
 },
 "nbformat": 4,
 "nbformat_minor": 2
}
